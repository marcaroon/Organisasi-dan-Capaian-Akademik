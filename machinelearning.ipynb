{
 "cells": [
  {
   "cell_type": "code",
   "execution_count": 19,
   "metadata": {},
   "outputs": [],
   "source": [
    "from sklearn import preprocessing\n",
    "import pandas as pd\n",
    "import numpy as np\n",
    "import matplotlib.pyplot as plt\n",
    "import seaborn as sns \n",
    "\n",
    "from sklearn.tree import DecisionTreeClassifier\n",
    "from sklearn.ensemble import RandomForestClassifier\n",
    "from scipy.stats import randint\n",
    "from sklearn.model_selection import train_test_split, RandomizedSearchCV# Import train_test_split function\n",
    "from sklearn.metrics import accuracy_score, confusion_matrix, precision_score, recall_score, f1_score, ConfusionMatrixDisplay\n",
    "\n",
    "import pickle"
   ]
  },
  {
   "cell_type": "code",
   "execution_count": 20,
   "metadata": {},
   "outputs": [
    {
     "data": {
      "text/html": [
       "<div>\n",
       "<style scoped>\n",
       "    .dataframe tbody tr th:only-of-type {\n",
       "        vertical-align: middle;\n",
       "    }\n",
       "\n",
       "    .dataframe tbody tr th {\n",
       "        vertical-align: top;\n",
       "    }\n",
       "\n",
       "    .dataframe thead th {\n",
       "        text-align: right;\n",
       "    }\n",
       "</style>\n",
       "<table border=\"1\" class=\"dataframe\">\n",
       "  <thead>\n",
       "    <tr style=\"text-align: right;\">\n",
       "      <th></th>\n",
       "      <th>No</th>\n",
       "      <th>Jumlah Organisasi</th>\n",
       "      <th>IPK</th>\n",
       "      <th>Jumlah Kepanitiaan</th>\n",
       "      <th>Jabatan Organisasi</th>\n",
       "      <th>Jabatan Kepanitiaan</th>\n",
       "      <th>SKS</th>\n",
       "      <th>Kepuasan</th>\n",
       "      <th>Jenis Kelamin</th>\n",
       "      <th>Fakultas (Contoh: Fakultas Sains dan Teknologi)</th>\n",
       "      <th>Jurusan (Contoh: S-1 Sistem Informasi)</th>\n",
       "      <th>Semester</th>\n",
       "    </tr>\n",
       "  </thead>\n",
       "  <tbody>\n",
       "    <tr>\n",
       "      <th>0</th>\n",
       "      <td>1</td>\n",
       "      <td>2</td>\n",
       "      <td>3.01-3.50</td>\n",
       "      <td>1</td>\n",
       "      <td>Staff</td>\n",
       "      <td>Kepala Sub Bagian</td>\n",
       "      <td>22</td>\n",
       "      <td>Sangat Tidak Puas</td>\n",
       "      <td>Laki-Laki</td>\n",
       "      <td>Fakultas Sains dan Teknologi</td>\n",
       "      <td>S-1 Statistika</td>\n",
       "      <td>5</td>\n",
       "    </tr>\n",
       "    <tr>\n",
       "      <th>1</th>\n",
       "      <td>2</td>\n",
       "      <td>3</td>\n",
       "      <td>3.51-4.00</td>\n",
       "      <td>6</td>\n",
       "      <td>Ketua</td>\n",
       "      <td>Ketua</td>\n",
       "      <td>24</td>\n",
       "      <td>Puas</td>\n",
       "      <td>Laki-Laki</td>\n",
       "      <td>fakultas sains dan teknologi</td>\n",
       "      <td>s1-teknik biomedis</td>\n",
       "      <td>5</td>\n",
       "    </tr>\n",
       "    <tr>\n",
       "      <th>2</th>\n",
       "      <td>3</td>\n",
       "      <td>2</td>\n",
       "      <td>3.01-3.50</td>\n",
       "      <td>2</td>\n",
       "      <td>Staff</td>\n",
       "      <td>Kepala Bagian</td>\n",
       "      <td>22</td>\n",
       "      <td>Tidak Puas</td>\n",
       "      <td>Perempuan</td>\n",
       "      <td>Fakultas Sains dan Teknologi</td>\n",
       "      <td>S-1 Statistika</td>\n",
       "      <td>5</td>\n",
       "    </tr>\n",
       "    <tr>\n",
       "      <th>3</th>\n",
       "      <td>4</td>\n",
       "      <td>1</td>\n",
       "      <td>3.51-4.00</td>\n",
       "      <td>2</td>\n",
       "      <td>Kepala Bagian</td>\n",
       "      <td>Wakil Ketua</td>\n",
       "      <td>23</td>\n",
       "      <td>Puas</td>\n",
       "      <td>Perempuan</td>\n",
       "      <td>Fakultas Sains dan Teknologi</td>\n",
       "      <td>S-1 Teknik Lingkungan</td>\n",
       "      <td>5</td>\n",
       "    </tr>\n",
       "    <tr>\n",
       "      <th>4</th>\n",
       "      <td>5</td>\n",
       "      <td>1</td>\n",
       "      <td>3.51-4.00</td>\n",
       "      <td>0</td>\n",
       "      <td>Ketua</td>\n",
       "      <td>-</td>\n",
       "      <td>23</td>\n",
       "      <td>Puas</td>\n",
       "      <td>Perempuan</td>\n",
       "      <td>Fakultas Kedokteran</td>\n",
       "      <td>S-1 Kedokteran</td>\n",
       "      <td>7</td>\n",
       "    </tr>\n",
       "  </tbody>\n",
       "</table>\n",
       "</div>"
      ],
      "text/plain": [
       "   No  Jumlah Organisasi        IPK  Jumlah Kepanitiaan Jabatan Organisasi  \\\n",
       "0   1                  2  3.01-3.50                   1              Staff   \n",
       "1   2                  3  3.51-4.00                   6              Ketua   \n",
       "2   3                  2  3.01-3.50                   2              Staff   \n",
       "3   4                  1  3.51-4.00                   2      Kepala Bagian   \n",
       "4   5                  1  3.51-4.00                   0              Ketua   \n",
       "\n",
       "  Jabatan Kepanitiaan  SKS           Kepuasan Jenis Kelamin  \\\n",
       "0   Kepala Sub Bagian   22  Sangat Tidak Puas     Laki-Laki   \n",
       "1               Ketua   24               Puas     Laki-Laki   \n",
       "2       Kepala Bagian   22         Tidak Puas     Perempuan   \n",
       "3         Wakil Ketua   23               Puas     Perempuan   \n",
       "4                   -   23               Puas     Perempuan   \n",
       "\n",
       "  Fakultas (Contoh: Fakultas Sains dan Teknologi)  \\\n",
       "0                    Fakultas Sains dan Teknologi   \n",
       "1                    fakultas sains dan teknologi   \n",
       "2                    Fakultas Sains dan Teknologi   \n",
       "3                    Fakultas Sains dan Teknologi   \n",
       "4                             Fakultas Kedokteran   \n",
       "\n",
       "  Jurusan (Contoh: S-1 Sistem Informasi)  Semester  \n",
       "0                         S-1 Statistika         5  \n",
       "1                     s1-teknik biomedis         5  \n",
       "2                         S-1 Statistika         5  \n",
       "3                  S-1 Teknik Lingkungan         5  \n",
       "4                         S-1 Kedokteran         7  "
      ]
     },
     "execution_count": 20,
     "metadata": {},
     "output_type": "execute_result"
    }
   ],
   "source": [
    "dataSets = pd.read_csv('Pengaruh Kegiatan Organisasi dengan Capaian Akademik Mahasiswa.xlsx - Worksheet - Copy.csv')\n",
    "dataSets = pd.DataFrame(dataSets)\n",
    "dataSets.head()\n"
   ]
  },
  {
   "cell_type": "code",
   "execution_count": 21,
   "metadata": {},
   "outputs": [
    {
     "data": {
      "text/html": [
       "<div>\n",
       "<style scoped>\n",
       "    .dataframe tbody tr th:only-of-type {\n",
       "        vertical-align: middle;\n",
       "    }\n",
       "\n",
       "    .dataframe tbody tr th {\n",
       "        vertical-align: top;\n",
       "    }\n",
       "\n",
       "    .dataframe thead th {\n",
       "        text-align: right;\n",
       "    }\n",
       "</style>\n",
       "<table border=\"1\" class=\"dataframe\">\n",
       "  <thead>\n",
       "    <tr style=\"text-align: right;\">\n",
       "      <th></th>\n",
       "      <th>Jumlah Organisasi</th>\n",
       "      <th>IPK</th>\n",
       "      <th>Jumlah Kepanitiaan</th>\n",
       "      <th>Jabatan Organisasi</th>\n",
       "      <th>Jabatan Kepanitiaan</th>\n",
       "      <th>Kepuasan</th>\n",
       "      <th>Jenis Kelamin</th>\n",
       "    </tr>\n",
       "  </thead>\n",
       "  <tbody>\n",
       "    <tr>\n",
       "      <th>0</th>\n",
       "      <td>2</td>\n",
       "      <td>3.01-3.50</td>\n",
       "      <td>1</td>\n",
       "      <td>Staff</td>\n",
       "      <td>Kepala Sub Bagian</td>\n",
       "      <td>Sangat Tidak Puas</td>\n",
       "      <td>Laki-Laki</td>\n",
       "    </tr>\n",
       "    <tr>\n",
       "      <th>1</th>\n",
       "      <td>3</td>\n",
       "      <td>3.51-4.00</td>\n",
       "      <td>6</td>\n",
       "      <td>Ketua</td>\n",
       "      <td>Ketua</td>\n",
       "      <td>Puas</td>\n",
       "      <td>Laki-Laki</td>\n",
       "    </tr>\n",
       "    <tr>\n",
       "      <th>2</th>\n",
       "      <td>2</td>\n",
       "      <td>3.01-3.50</td>\n",
       "      <td>2</td>\n",
       "      <td>Staff</td>\n",
       "      <td>Kepala Bagian</td>\n",
       "      <td>Tidak Puas</td>\n",
       "      <td>Perempuan</td>\n",
       "    </tr>\n",
       "    <tr>\n",
       "      <th>3</th>\n",
       "      <td>1</td>\n",
       "      <td>3.51-4.00</td>\n",
       "      <td>2</td>\n",
       "      <td>Kepala Bagian</td>\n",
       "      <td>Wakil Ketua</td>\n",
       "      <td>Puas</td>\n",
       "      <td>Perempuan</td>\n",
       "    </tr>\n",
       "    <tr>\n",
       "      <th>4</th>\n",
       "      <td>1</td>\n",
       "      <td>3.51-4.00</td>\n",
       "      <td>0</td>\n",
       "      <td>Ketua</td>\n",
       "      <td>-</td>\n",
       "      <td>Puas</td>\n",
       "      <td>Perempuan</td>\n",
       "    </tr>\n",
       "  </tbody>\n",
       "</table>\n",
       "</div>"
      ],
      "text/plain": [
       "   Jumlah Organisasi        IPK  Jumlah Kepanitiaan Jabatan Organisasi  \\\n",
       "0                  2  3.01-3.50                   1              Staff   \n",
       "1                  3  3.51-4.00                   6              Ketua   \n",
       "2                  2  3.01-3.50                   2              Staff   \n",
       "3                  1  3.51-4.00                   2      Kepala Bagian   \n",
       "4                  1  3.51-4.00                   0              Ketua   \n",
       "\n",
       "  Jabatan Kepanitiaan           Kepuasan Jenis Kelamin  \n",
       "0   Kepala Sub Bagian  Sangat Tidak Puas     Laki-Laki  \n",
       "1               Ketua               Puas     Laki-Laki  \n",
       "2       Kepala Bagian         Tidak Puas     Perempuan  \n",
       "3         Wakil Ketua               Puas     Perempuan  \n",
       "4                   -               Puas     Perempuan  "
      ]
     },
     "execution_count": 21,
     "metadata": {},
     "output_type": "execute_result"
    }
   ],
   "source": [
    "# Menghapus data yang tidak diperlukan\n",
    "dataSets = dataSets.drop(['No', \"Fakultas (Contoh: Fakultas Sains dan Teknologi)\", \"Jurusan (Contoh: S-1 Sistem Informasi)\", \"Semester\", \"SKS\"], axis=1)\n",
    "dataSets.head()"
   ]
  },
  {
   "cell_type": "code",
   "execution_count": 22,
   "metadata": {},
   "outputs": [
    {
     "data": {
      "text/html": [
       "<div>\n",
       "<style scoped>\n",
       "    .dataframe tbody tr th:only-of-type {\n",
       "        vertical-align: middle;\n",
       "    }\n",
       "\n",
       "    .dataframe tbody tr th {\n",
       "        vertical-align: top;\n",
       "    }\n",
       "\n",
       "    .dataframe thead th {\n",
       "        text-align: right;\n",
       "    }\n",
       "</style>\n",
       "<table border=\"1\" class=\"dataframe\">\n",
       "  <thead>\n",
       "    <tr style=\"text-align: right;\">\n",
       "      <th></th>\n",
       "      <th>Jumlah Organisasi</th>\n",
       "      <th>IPK</th>\n",
       "      <th>Jumlah Kepanitiaan</th>\n",
       "      <th>Jabatan Organisasi</th>\n",
       "      <th>Jabatan Kepanitiaan</th>\n",
       "      <th>Kepuasan</th>\n",
       "      <th>Jenis Kelamin</th>\n",
       "    </tr>\n",
       "  </thead>\n",
       "  <tbody>\n",
       "    <tr>\n",
       "      <th>0</th>\n",
       "      <td>2</td>\n",
       "      <td>4</td>\n",
       "      <td>1</td>\n",
       "      <td>1</td>\n",
       "      <td>2</td>\n",
       "      <td>1</td>\n",
       "      <td>0</td>\n",
       "    </tr>\n",
       "    <tr>\n",
       "      <th>1</th>\n",
       "      <td>3</td>\n",
       "      <td>5</td>\n",
       "      <td>6</td>\n",
       "      <td>6</td>\n",
       "      <td>6</td>\n",
       "      <td>3</td>\n",
       "      <td>0</td>\n",
       "    </tr>\n",
       "    <tr>\n",
       "      <th>2</th>\n",
       "      <td>2</td>\n",
       "      <td>4</td>\n",
       "      <td>2</td>\n",
       "      <td>1</td>\n",
       "      <td>3</td>\n",
       "      <td>2</td>\n",
       "      <td>1</td>\n",
       "    </tr>\n",
       "    <tr>\n",
       "      <th>3</th>\n",
       "      <td>1</td>\n",
       "      <td>5</td>\n",
       "      <td>2</td>\n",
       "      <td>3</td>\n",
       "      <td>5</td>\n",
       "      <td>3</td>\n",
       "      <td>1</td>\n",
       "    </tr>\n",
       "    <tr>\n",
       "      <th>4</th>\n",
       "      <td>1</td>\n",
       "      <td>5</td>\n",
       "      <td>0</td>\n",
       "      <td>6</td>\n",
       "      <td>0</td>\n",
       "      <td>3</td>\n",
       "      <td>1</td>\n",
       "    </tr>\n",
       "    <tr>\n",
       "      <th>...</th>\n",
       "      <td>...</td>\n",
       "      <td>...</td>\n",
       "      <td>...</td>\n",
       "      <td>...</td>\n",
       "      <td>...</td>\n",
       "      <td>...</td>\n",
       "      <td>...</td>\n",
       "    </tr>\n",
       "    <tr>\n",
       "      <th>196</th>\n",
       "      <td>3</td>\n",
       "      <td>3</td>\n",
       "      <td>5</td>\n",
       "      <td>4</td>\n",
       "      <td>3</td>\n",
       "      <td>1</td>\n",
       "      <td>1</td>\n",
       "    </tr>\n",
       "    <tr>\n",
       "      <th>197</th>\n",
       "      <td>3</td>\n",
       "      <td>3</td>\n",
       "      <td>6</td>\n",
       "      <td>3</td>\n",
       "      <td>5</td>\n",
       "      <td>1</td>\n",
       "      <td>1</td>\n",
       "    </tr>\n",
       "    <tr>\n",
       "      <th>198</th>\n",
       "      <td>2</td>\n",
       "      <td>3</td>\n",
       "      <td>6</td>\n",
       "      <td>5</td>\n",
       "      <td>5</td>\n",
       "      <td>1</td>\n",
       "      <td>0</td>\n",
       "    </tr>\n",
       "    <tr>\n",
       "      <th>199</th>\n",
       "      <td>4</td>\n",
       "      <td>3</td>\n",
       "      <td>8</td>\n",
       "      <td>3</td>\n",
       "      <td>1</td>\n",
       "      <td>1</td>\n",
       "      <td>0</td>\n",
       "    </tr>\n",
       "    <tr>\n",
       "      <th>200</th>\n",
       "      <td>2</td>\n",
       "      <td>3</td>\n",
       "      <td>4</td>\n",
       "      <td>3</td>\n",
       "      <td>1</td>\n",
       "      <td>1</td>\n",
       "      <td>0</td>\n",
       "    </tr>\n",
       "  </tbody>\n",
       "</table>\n",
       "<p>201 rows × 7 columns</p>\n",
       "</div>"
      ],
      "text/plain": [
       "     Jumlah Organisasi  IPK  Jumlah Kepanitiaan  Jabatan Organisasi  \\\n",
       "0                    2    4                   1                   1   \n",
       "1                    3    5                   6                   6   \n",
       "2                    2    4                   2                   1   \n",
       "3                    1    5                   2                   3   \n",
       "4                    1    5                   0                   6   \n",
       "..                 ...  ...                 ...                 ...   \n",
       "196                  3    3                   5                   4   \n",
       "197                  3    3                   6                   3   \n",
       "198                  2    3                   6                   5   \n",
       "199                  4    3                   8                   3   \n",
       "200                  2    3                   4                   3   \n",
       "\n",
       "     Jabatan Kepanitiaan  Kepuasan  Jenis Kelamin  \n",
       "0                      2         1              0  \n",
       "1                      6         3              0  \n",
       "2                      3         2              1  \n",
       "3                      5         3              1  \n",
       "4                      0         3              1  \n",
       "..                   ...       ...            ...  \n",
       "196                    3         1              1  \n",
       "197                    5         1              1  \n",
       "198                    5         1              0  \n",
       "199                    1         1              0  \n",
       "200                    1         1              0  \n",
       "\n",
       "[201 rows x 7 columns]"
      ]
     },
     "execution_count": 22,
     "metadata": {},
     "output_type": "execute_result"
    }
   ],
   "source": [
    "dataSets['Jabatan Organisasi'].replace({'-':0, 'Staff':1, 'Kepala Sub Bagian':2, 'Kepala Bagian':3, 'Sekretaris/Bendahara':4, 'Wakil Ketua':5, 'Ketua':6}, inplace=True)\n",
    "dataSets['Jabatan Kepanitiaan'].replace({'-':0, 'Staff':1, 'Kepala Sub Bagian':2, 'Kepala Bagian':3, 'Sekretaris/Bendahara':4, 'Wakil Ketua':5, 'Ketua':6}, inplace=True)\n",
    "dataSets['Kepuasan'].replace({'Sangat Tidak Puas':1, 'Tidak Puas':2, 'Puas':3, 'Sangat Puas':4}, inplace=True)\n",
    "dataSets['IPK'].replace({'1.00-1.50':0, '1.51-2.00':1, '2.01-2.50':2, '2.51-3.00':3, '3.01-3.50':4, '3.51-4.00':5}, inplace=True)\n",
    "dataSets['Jenis Kelamin'].replace({'Laki-Laki':0, 'Perempuan':1}, inplace=True)\n",
    "dataSets"
   ]
  },
  {
   "cell_type": "code",
   "execution_count": 23,
   "metadata": {},
   "outputs": [
    {
     "data": {
      "text/html": [
       "<div>\n",
       "<style scoped>\n",
       "    .dataframe tbody tr th:only-of-type {\n",
       "        vertical-align: middle;\n",
       "    }\n",
       "\n",
       "    .dataframe tbody tr th {\n",
       "        vertical-align: top;\n",
       "    }\n",
       "\n",
       "    .dataframe thead th {\n",
       "        text-align: right;\n",
       "    }\n",
       "</style>\n",
       "<table border=\"1\" class=\"dataframe\">\n",
       "  <thead>\n",
       "    <tr style=\"text-align: right;\">\n",
       "      <th></th>\n",
       "      <th>Jumlah Organisasi</th>\n",
       "      <th>IPK</th>\n",
       "      <th>Jumlah Kepanitiaan</th>\n",
       "      <th>Jabatan Organisasi</th>\n",
       "      <th>Jabatan Kepanitiaan</th>\n",
       "      <th>Kepuasan</th>\n",
       "      <th>Jenis Kelamin</th>\n",
       "    </tr>\n",
       "  </thead>\n",
       "  <tbody>\n",
       "    <tr>\n",
       "      <th>0</th>\n",
       "      <td>0.4</td>\n",
       "      <td>0.5</td>\n",
       "      <td>0.125</td>\n",
       "      <td>0.166667</td>\n",
       "      <td>0.333333</td>\n",
       "      <td>0.000000</td>\n",
       "      <td>0.0</td>\n",
       "    </tr>\n",
       "    <tr>\n",
       "      <th>1</th>\n",
       "      <td>0.6</td>\n",
       "      <td>1.0</td>\n",
       "      <td>0.750</td>\n",
       "      <td>1.000000</td>\n",
       "      <td>1.000000</td>\n",
       "      <td>0.666667</td>\n",
       "      <td>0.0</td>\n",
       "    </tr>\n",
       "    <tr>\n",
       "      <th>2</th>\n",
       "      <td>0.4</td>\n",
       "      <td>0.5</td>\n",
       "      <td>0.250</td>\n",
       "      <td>0.166667</td>\n",
       "      <td>0.500000</td>\n",
       "      <td>0.333333</td>\n",
       "      <td>1.0</td>\n",
       "    </tr>\n",
       "    <tr>\n",
       "      <th>3</th>\n",
       "      <td>0.2</td>\n",
       "      <td>1.0</td>\n",
       "      <td>0.250</td>\n",
       "      <td>0.500000</td>\n",
       "      <td>0.833333</td>\n",
       "      <td>0.666667</td>\n",
       "      <td>1.0</td>\n",
       "    </tr>\n",
       "    <tr>\n",
       "      <th>4</th>\n",
       "      <td>0.2</td>\n",
       "      <td>1.0</td>\n",
       "      <td>0.000</td>\n",
       "      <td>1.000000</td>\n",
       "      <td>0.000000</td>\n",
       "      <td>0.666667</td>\n",
       "      <td>1.0</td>\n",
       "    </tr>\n",
       "  </tbody>\n",
       "</table>\n",
       "</div>"
      ],
      "text/plain": [
       "   Jumlah Organisasi  IPK  Jumlah Kepanitiaan  Jabatan Organisasi  \\\n",
       "0                0.4  0.5               0.125            0.166667   \n",
       "1                0.6  1.0               0.750            1.000000   \n",
       "2                0.4  0.5               0.250            0.166667   \n",
       "3                0.2  1.0               0.250            0.500000   \n",
       "4                0.2  1.0               0.000            1.000000   \n",
       "\n",
       "   Jabatan Kepanitiaan  Kepuasan  Jenis Kelamin  \n",
       "0             0.333333  0.000000            0.0  \n",
       "1             1.000000  0.666667            0.0  \n",
       "2             0.500000  0.333333            1.0  \n",
       "3             0.833333  0.666667            1.0  \n",
       "4             0.000000  0.666667            1.0  "
      ]
     },
     "execution_count": 23,
     "metadata": {},
     "output_type": "execute_result"
    }
   ],
   "source": [
    "from sklearn.preprocessing import MinMaxScaler\n",
    "\n",
    "scaler = MinMaxScaler()\n",
    "dataSets_scaled = scaler.fit_transform(dataSets)\n",
    "dataSets_scaled = pd.DataFrame(dataSets_scaled, columns=dataSets.columns)\n",
    "dataSets_scaled.head()\n"
   ]
  },
  {
   "cell_type": "code",
   "execution_count": 24,
   "metadata": {},
   "outputs": [
    {
     "data": {
      "text/plain": [
       "Jumlah Organisasi      0\n",
       "IPK                    0\n",
       "Jumlah Kepanitiaan     0\n",
       "Jabatan Organisasi     0\n",
       "Jabatan Kepanitiaan    0\n",
       "Kepuasan               0\n",
       "Jenis Kelamin          0\n",
       "dtype: int64"
      ]
     },
     "execution_count": 24,
     "metadata": {},
     "output_type": "execute_result"
    }
   ],
   "source": [
    "dataSets.isna().sum()"
   ]
  },
  {
   "cell_type": "code",
   "execution_count": 25,
   "metadata": {},
   "outputs": [],
   "source": [
    "feature_cols = ['Jumlah Organisasi', 'Jumlah Kepanitiaan', 'IPK','Jabatan Organisasi','Jabatan Kepanitiaan']\n",
    "X = dataSets[feature_cols]\n",
    "y = dataSets['Kepuasan']"
   ]
  },
  {
   "cell_type": "code",
   "execution_count": 26,
   "metadata": {},
   "outputs": [],
   "source": [
    "# Split dataset into training set and test set\n",
    "X_train, X_test, y_train, y_test = train_test_split(X, y, test_size=0.2, random_state=100) # 70% training and 30% test\n"
   ]
  },
  {
   "cell_type": "code",
   "execution_count": 27,
   "metadata": {},
   "outputs": [],
   "source": [
    "# Create Decision Tree classifer object\n",
    "clf = DecisionTreeClassifier()\n",
    "\n",
    "# Train Decision Tree Classifer\n",
    "clf = clf.fit(X_train,y_train)\n",
    "\n",
    "#Predict the response for test dataset\n",
    "y_pred = clf.predict(X_test)\n"
   ]
  },
  {
   "cell_type": "code",
   "execution_count": 28,
   "metadata": {},
   "outputs": [
    {
     "name": "stdout",
     "output_type": "stream",
     "text": [
      "Accuracy: 0.8536585365853658\n",
      "Precission: 0.866166353971232\n",
      "Recall: 0.8536585365853658\n",
      "f1: 0.8587172538392049\n"
     ]
    },
    {
     "data": {
      "image/png": "[encoded data removed]",
      "text/plain": [
       "<Figure size 640x480 with 2 Axes>"
      ]
     },
     "metadata": {},
     "output_type": "display_data"
    }
   ],
   "source": [
    "# Model Accuracy, how often is the classifier correct?\n",
    "print(\"Accuracy:\", accuracy_score(y_test, y_pred))\n",
    "print(\"Precission:\", precision_score(y_test, y_pred, average='weighted'))\n",
    "print(\"Recall:\", recall_score(y_test, y_pred, average='weighted'))\n",
    "print(\"f1:\", f1_score(y_test, y_pred, average='weighted'))\n",
    "\n",
    "cm = confusion_matrix(y_test, y_pred)\n",
    "disp = ConfusionMatrixDisplay(confusion_matrix=cm)\n",
    "disp.plot();\n"
   ]
  },
  {
   "cell_type": "code",
   "execution_count": 29,
   "metadata": {},
   "outputs": [],
   "source": [
    "rf = RandomForestClassifier()\n",
    "rf.fit(X_train, y_train)\n",
    "\n",
    "filename = 'model.sav'\n",
    "pickle.dump(rf, open(filename, 'wb'))"
   ]
  },
  {
   "cell_type": "code",
   "execution_count": 30,
   "metadata": {},
   "outputs": [],
   "source": [
    "y_pred = rf.predict(X_test)"
   ]
  },
  {
   "cell_type": "code",
   "execution_count": 31,
   "metadata": {},
   "outputs": [
    {
     "name": "stdout",
     "output_type": "stream",
     "text": [
      "Accuracy: 0.8780487804878049\n",
      "Precission: 0.894308943089431\n",
      "Recall: 0.8780487804878049\n",
      "f1: 0.8850362557679632\n"
     ]
    },
    {
     "data": {
      "image/png": "[encoded data removed]",
      "text/plain": [
       "<Figure size 640x480 with 2 Axes>"
      ]
     },
     "metadata": {},
     "output_type": "display_data"
    }
   ],
   "source": [
    "print(\"Accuracy:\", accuracy_score(y_test, y_pred))\n",
    "print(\"Precission:\", precision_score(y_test, y_pred, average='weighted'))\n",
    "print(\"Recall:\", recall_score(y_test, y_pred, average='weighted'))\n",
    "print(\"f1:\", f1_score(y_test, y_pred, average='weighted'))\n",
    "\n",
    "cm = confusion_matrix(y_test, y_pred)\n",
    "disp = ConfusionMatrixDisplay(confusion_matrix=cm)\n",
    "disp.plot();"
   ]
  },
  {
   "cell_type": "code",
   "execution_count": 32,
   "metadata": {},
   "outputs": [],
   "source": [
    "#Import svm model\n",
    "from sklearn import svm\n",
    "\n",
    "#Create a svm Classifier\n",
    "clf = svm.SVC(kernel='linear') # Linear Kernel\n",
    "\n",
    "#Train the model using the training sets\n",
    "clf.fit(X_train, y_train)\n",
    "\n",
    "#Predict the response for test dataset\n",
    "y_pred = clf.predict(X_test)\n"
   ]
  },
  {
   "cell_type": "code",
   "execution_count": 33,
   "metadata": {},
   "outputs": [
    {
     "name": "stdout",
     "output_type": "stream",
     "text": [
      "Accuracy: 0.6829268292682927\n",
      "Precission: 0.745040650406504\n",
      "Recall: 0.6829268292682927\n",
      "f1: 0.670256572695597\n"
     ]
    },
    {
     "data": {
      "image/png": "[encoded data removed]",
      "text/plain": [
       "<Figure size 640x480 with 2 Axes>"
      ]
     },
     "metadata": {},
     "output_type": "display_data"
    }
   ],
   "source": [
    "print(\"Accuracy:\", accuracy_score(y_test, y_pred))\n",
    "print(\"Precission:\", precision_score(y_test, y_pred, average='weighted'))\n",
    "print(\"Recall:\", recall_score(y_test, y_pred, average='weighted'))\n",
    "print(\"f1:\", f1_score(y_test, y_pred, average='weighted'))\n",
    "\n",
    "cm = confusion_matrix(y_test, y_pred)\n",
    "disp = ConfusionMatrixDisplay(confusion_matrix=cm)\n",
    "disp.plot();\n"
   ]
  },
  {
   "cell_type": "code",
   "execution_count": 34,
   "metadata": {},
   "outputs": [
    {
     "data": {
      "text/html": [
       "<style>#sk-container-id-2 {color: black;background-color: white;}#sk-container-id-2 pre{padding: 0;}#sk-container-id-2 div.sk-toggleable {background-color: white;}#sk-container-id-2 label.sk-toggleable__label {cursor: pointer;display: block;width: 100%;margin-bottom: 0;padding: 0.3em;box-sizing: border-box;text-align: center;}#sk-container-id-2 label.sk-toggleable__label-arrow:before {content: \"▸\";float: left;margin-right: 0.25em;color: #696969;}#sk-container-id-2 label.sk-toggleable__label-arrow:hover:before {color: black;}#sk-container-id-2 div.sk-estimator:hover label.sk-toggleable__label-arrow:before {color: black;}#sk-container-id-2 div.sk-toggleable__content {max-height: 0;max-width: 0;overflow: hidden;text-align: left;background-color: #f0f8ff;}#sk-container-id-2 div.sk-toggleable__content pre {margin: 0.2em;color: black;border-radius: 0.25em;background-color: #f0f8ff;}#sk-container-id-2 input.sk-toggleable__control:checked~div.sk-toggleable__content {max-height: 200px;max-width: 100%;overflow: auto;}#sk-container-id-2 input.sk-toggleable__control:checked~label.sk-toggleable__label-arrow:before {content: \"▾\";}#sk-container-id-2 div.sk-estimator input.sk-toggleable__control:checked~label.sk-toggleable__label {background-color: #d4ebff;}#sk-container-id-2 div.sk-label input.sk-toggleable__control:checked~label.sk-toggleable__label {background-color: #d4ebff;}#sk-container-id-2 input.sk-hidden--visually {border: 0;clip: rect(1px 1px 1px 1px);clip: rect(1px, 1px, 1px, 1px);height: 1px;margin: -1px;overflow: hidden;padding: 0;position: absolute;width: 1px;}#sk-container-id-2 div.sk-estimator {font-family: monospace;background-color: #f0f8ff;border: 1px dotted black;border-radius: 0.25em;box-sizing: border-box;margin-bottom: 0.5em;}#sk-container-id-2 div.sk-estimator:hover {background-color: #d4ebff;}#sk-container-id-2 div.sk-parallel-item::after {content: \"\";width: 100%;border-bottom: 1px solid gray;flex-grow: 1;}#sk-container-id-2 div.sk-label:hover label.sk-toggleable__label {background-color: #d4ebff;}#sk-container-id-2 div.sk-serial::before {content: \"\";position: absolute;border-left: 1px solid gray;box-sizing: border-box;top: 0;bottom: 0;left: 50%;z-index: 0;}#sk-container-id-2 div.sk-serial {display: flex;flex-direction: column;align-items: center;background-color: white;padding-right: 0.2em;padding-left: 0.2em;position: relative;}#sk-container-id-2 div.sk-item {position: relative;z-index: 1;}#sk-container-id-2 div.sk-parallel {display: flex;align-items: stretch;justify-content: center;background-color: white;position: relative;}#sk-container-id-2 div.sk-item::before, #sk-container-id-2 div.sk-parallel-item::before {content: \"\";position: absolute;border-left: 1px solid gray;box-sizing: border-box;top: 0;bottom: 0;left: 50%;z-index: -1;}#sk-container-id-2 div.sk-parallel-item {display: flex;flex-direction: column;z-index: 1;position: relative;background-color: white;}#sk-container-id-2 div.sk-parallel-item:first-child::after {align-self: flex-end;width: 50%;}#sk-container-id-2 div.sk-parallel-item:last-child::after {align-self: flex-start;width: 50%;}#sk-container-id-2 div.sk-parallel-item:only-child::after {width: 0;}#sk-container-id-2 div.sk-dashed-wrapped {border: 1px dashed gray;margin: 0 0.4em 0.5em 0.4em;box-sizing: border-box;padding-bottom: 0.4em;background-color: white;}#sk-container-id-2 div.sk-label label {font-family: monospace;font-weight: bold;display: inline-block;line-height: 1.2em;}#sk-container-id-2 div.sk-label-container {text-align: center;}#sk-container-id-2 div.sk-container {/* jupyter's `normalize.less` sets `[hidden] { display: none; }` but bootstrap.min.css set `[hidden] { display: none !important; }` so we also need the `!important` here to be able to override the default hidden behavior on the sphinx rendered scikit-learn.org. See: https://github.com/scikit-learn/scikit-learn/issues/21755 */display: inline-block !important;position: relative;}#sk-container-id-2 div.sk-text-repr-fallback {display: none;}</style><div id=\"sk-container-id-2\" class=\"sk-top-container\"><div class=\"sk-text-repr-fallback\"><pre>GaussianNB()</pre><b>In a Jupyter environment, please rerun this cell to show the HTML representation or trust the notebook. <br />On GitHub, the HTML representation is unable to render, please try loading this page with nbviewer.org.</b></div><div class=\"sk-container\" hidden><div class=\"sk-item\"><div class=\"sk-estimator sk-toggleable\"><input class=\"sk-toggleable__control sk-hidden--visually\" id=\"sk-estimator-id-2\" type=\"checkbox\" checked><label for=\"sk-estimator-id-2\" class=\"sk-toggleable__label sk-toggleable__label-arrow\">GaussianNB</label><div class=\"sk-toggleable__content\"><pre>GaussianNB()</pre></div></div></div></div></div>"
      ],
      "text/plain": [
       "GaussianNB()"
      ]
     },
     "execution_count": 34,
     "metadata": {},
     "output_type": "execute_result"
    }
   ],
   "source": [
    "from sklearn.naive_bayes import GaussianNB\n",
    "\n",
    "# Build a Gaussian Classifier\n",
    "model = GaussianNB()\n",
    "\n",
    "# Model training\n",
    "model.fit(X_train, y_train)\n"
   ]
  },
  {
   "cell_type": "code",
   "execution_count": 35,
   "metadata": {},
   "outputs": [],
   "source": [
    "y_pred = model.predict(X_test)\n"
   ]
  },
  {
   "cell_type": "code",
   "execution_count": 36,
   "metadata": {},
   "outputs": [
    {
     "name": "stdout",
     "output_type": "stream",
     "text": [
      "Accuracy: 0.6585365853658537\n",
      "Precission: 0.7792262405382674\n",
      "Recall: 0.6585365853658537\n",
      "f1: 0.5904471544715447\n"
     ]
    },
    {
     "data": {
      "image/png": "[encoded data removed]",
      "text/plain": [
       "<Figure size 640x480 with 2 Axes>"
      ]
     },
     "metadata": {},
     "output_type": "display_data"
    }
   ],
   "source": [
    "print(\"Accuracy:\", accuracy_score(y_test, y_pred))\n",
    "print(\"Precission:\", precision_score(y_test, y_pred, average='weighted'))\n",
    "print(\"Recall:\", recall_score(y_test, y_pred, average='weighted'))\n",
    "print(\"f1:\", f1_score(y_test, y_pred, average='weighted'))\n",
    "\n",
    "cm = confusion_matrix(y_test, y_pred)\n",
    "disp = ConfusionMatrixDisplay(confusion_matrix=cm)\n",
    "disp.plot();"
   ]
  }
 ],
 "metadata": {
  "kernelspec": {
   "display_name": "Python 3",
   "language": "python",
   "name": "python3"
  },
  "language_info": {
   "codemirror_mode": {
    "name": "ipython",
    "version": 3
   },
   "file_extension": ".py",
   "mimetype": "text/x-python",
   "name": "python",
   "nbconvert_exporter": "python",
   "pygments_lexer": "ipython3",
   "version": "3.11.0"
  }
 },
 "nbformat": 4,
 "nbformat_minor": 2
}
